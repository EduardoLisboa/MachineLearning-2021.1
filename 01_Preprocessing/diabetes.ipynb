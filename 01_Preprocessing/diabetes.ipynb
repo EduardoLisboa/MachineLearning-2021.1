{
 "cells": [
  {
   "cell_type": "code",
   "execution_count": null,
   "metadata": {
    "collapsed": true
   },
   "outputs": [],
   "source": [
    "#!/usr/bin/env python3\n",
    "# -*- coding: utf-8 -*-\n",
    "\"\"\"\n",
    "Atividade para trabalhar o pré-processamento dos dados.\n",
    "\n",
    "Criação de modelo preditivo para diabetes e envio para verificação de peformance\n",
    "no servidor.\n",
    "\n",
    "@author: Aydano Machado <aydano.machado@gmail.com>\n",
    "\"\"\""
   ]
  },
  {
   "cell_type": "code",
   "execution_count": 1,
   "outputs": [],
   "source": [
    "import pandas as pd\n",
    "from sklearn.neighbors import KNeighborsClassifier\n",
    "import requests"
   ],
   "metadata": {
    "collapsed": false,
    "pycharm": {
     "name": "#%%\n"
    }
   }
  },
  {
   "cell_type": "code",
   "execution_count": 61,
   "outputs": [
    {
     "name": "stdout",
     "output_type": "stream",
     "text": [
      " - Lendo o arquivo com o dataset sobre diabetes\n"
     ]
    }
   ],
   "source": [
    "print(' - Lendo o arquivo com o dataset sobre diabetes')\n",
    "data = pd.read_csv('diabetes_dataset.csv')"
   ],
   "metadata": {
    "collapsed": false,
    "pycharm": {
     "name": "#%%\n"
    }
   }
  },
  {
   "cell_type": "code",
   "execution_count": 62,
   "outputs": [
    {
     "name": "stdout",
     "output_type": "stream",
     "text": [
      " - Criando X e y para o algoritmo de aprendizagem a partir do arquivo diabetes_dataset\n"
     ]
    }
   ],
   "source": [
    "# Criando X and y par ao algorítmo de aprendizagem de máquina.\\\n",
    "print(' - Criando X e y para o algoritmo de aprendizagem a partir do arquivo diabetes_dataset')\n",
    "# Caso queira modificar as colunas consideradas basta algera o array a seguir.\n",
    "# feature_cols = ['Pregnancies', 'Glucose', 'BloodPressure', 'SkinThickness',\n",
    "#                 'Insulin', 'BMI', 'DiabetesPedigreeFunction', 'Age']\n",
    "feature_cols = ['Glucose', 'Insulin', 'BMI', 'DiabetesPedigreeFunction', 'Age']\n",
    "\n",
    "df = data.copy()\n",
    "df.dropna(inplace=True)\n",
    "X = df[feature_cols]\n",
    "y = df.Outcome"
   ],
   "metadata": {
    "collapsed": false,
    "pycharm": {
     "name": "#%%\n"
    }
   }
  },
  {
   "cell_type": "code",
   "execution_count": 63,
   "outputs": [
    {
     "data": {
      "text/plain": "     Glucose  Insulin   BMI  DiabetesPedigreeFunction  Age\n3      137.0    168.0  43.1                     2.288   33\n6      197.0    543.0  30.5                     0.158   53\n12     118.0    230.0  45.8                     0.551   31\n14     103.0     83.0  43.3                     0.183   33\n15     126.0    235.0  39.3                     0.704   27\n..       ...      ...   ...                       ...  ...\n553    153.0    140.0  40.6                     1.174   39\n554    100.0    105.0  30.0                     0.488   46\n558    121.0     74.0  39.0                     0.261   28\n565     88.0     16.0  28.4                     0.766   22\n569    121.0    112.0  26.2                     0.245   30\n\n[196 rows x 5 columns]",
      "text/html": "<div>\n<style scoped>\n    .dataframe tbody tr th:only-of-type {\n        vertical-align: middle;\n    }\n\n    .dataframe tbody tr th {\n        vertical-align: top;\n    }\n\n    .dataframe thead th {\n        text-align: right;\n    }\n</style>\n<table border=\"1\" class=\"dataframe\">\n  <thead>\n    <tr style=\"text-align: right;\">\n      <th></th>\n      <th>Glucose</th>\n      <th>Insulin</th>\n      <th>BMI</th>\n      <th>DiabetesPedigreeFunction</th>\n      <th>Age</th>\n    </tr>\n  </thead>\n  <tbody>\n    <tr>\n      <th>3</th>\n      <td>137.0</td>\n      <td>168.0</td>\n      <td>43.1</td>\n      <td>2.288</td>\n      <td>33</td>\n    </tr>\n    <tr>\n      <th>6</th>\n      <td>197.0</td>\n      <td>543.0</td>\n      <td>30.5</td>\n      <td>0.158</td>\n      <td>53</td>\n    </tr>\n    <tr>\n      <th>12</th>\n      <td>118.0</td>\n      <td>230.0</td>\n      <td>45.8</td>\n      <td>0.551</td>\n      <td>31</td>\n    </tr>\n    <tr>\n      <th>14</th>\n      <td>103.0</td>\n      <td>83.0</td>\n      <td>43.3</td>\n      <td>0.183</td>\n      <td>33</td>\n    </tr>\n    <tr>\n      <th>15</th>\n      <td>126.0</td>\n      <td>235.0</td>\n      <td>39.3</td>\n      <td>0.704</td>\n      <td>27</td>\n    </tr>\n    <tr>\n      <th>...</th>\n      <td>...</td>\n      <td>...</td>\n      <td>...</td>\n      <td>...</td>\n      <td>...</td>\n    </tr>\n    <tr>\n      <th>553</th>\n      <td>153.0</td>\n      <td>140.0</td>\n      <td>40.6</td>\n      <td>1.174</td>\n      <td>39</td>\n    </tr>\n    <tr>\n      <th>554</th>\n      <td>100.0</td>\n      <td>105.0</td>\n      <td>30.0</td>\n      <td>0.488</td>\n      <td>46</td>\n    </tr>\n    <tr>\n      <th>558</th>\n      <td>121.0</td>\n      <td>74.0</td>\n      <td>39.0</td>\n      <td>0.261</td>\n      <td>28</td>\n    </tr>\n    <tr>\n      <th>565</th>\n      <td>88.0</td>\n      <td>16.0</td>\n      <td>28.4</td>\n      <td>0.766</td>\n      <td>22</td>\n    </tr>\n    <tr>\n      <th>569</th>\n      <td>121.0</td>\n      <td>112.0</td>\n      <td>26.2</td>\n      <td>0.245</td>\n      <td>30</td>\n    </tr>\n  </tbody>\n</table>\n<p>196 rows × 5 columns</p>\n</div>"
     },
     "execution_count": 63,
     "metadata": {},
     "output_type": "execute_result"
    }
   ],
   "source": [
    "X"
   ],
   "metadata": {
    "collapsed": false,
    "pycharm": {
     "name": "#%%\n"
    }
   }
  },
  {
   "cell_type": "code",
   "execution_count": 64,
   "outputs": [
    {
     "data": {
      "text/plain": "3      1\n6      1\n12     1\n14     0\n15     0\n      ..\n553    0\n554    0\n558    0\n565    0\n569    0\nName: Outcome, Length: 196, dtype: int64"
     },
     "execution_count": 64,
     "metadata": {},
     "output_type": "execute_result"
    }
   ],
   "source": [
    "y"
   ],
   "metadata": {
    "collapsed": false,
    "pycharm": {
     "name": "#%%\n"
    }
   }
  },
  {
   "cell_type": "code",
   "execution_count": 65,
   "outputs": [
    {
     "name": "stdout",
     "output_type": "stream",
     "text": [
      " - Criando modelo preditivo\n"
     ]
    },
    {
     "data": {
      "text/plain": "KNeighborsClassifier(n_neighbors=3)"
     },
     "execution_count": 65,
     "metadata": {},
     "output_type": "execute_result"
    }
   ],
   "source": [
    "# Ciando o modelo preditivo para a base trabalhada\n",
    "print(' - Criando modelo preditivo')\n",
    "neigh = KNeighborsClassifier(n_neighbors=3)\n",
    "neigh.fit(X, y)"
   ],
   "metadata": {
    "collapsed": false,
    "pycharm": {
     "name": "#%%\n"
    }
   }
  },
  {
   "cell_type": "code",
   "execution_count": 66,
   "outputs": [
    {
     "name": "stdout",
     "output_type": "stream",
     "text": [
      " - Aplicando modelo e enviando para o servidor\n"
     ]
    }
   ],
   "source": [
    "# Realizando previsões com o arquivo de\n",
    "print(' - Aplicando modelo e enviando para o servidor')\n",
    "data_app = pd.read_csv('diabetes_app.csv')\n",
    "data_app = data_app[feature_cols]\n",
    "y_pred = neigh.predict(data_app)"
   ],
   "metadata": {
    "collapsed": false,
    "pycharm": {
     "name": "#%%\n"
    }
   }
  },
  {
   "cell_type": "code",
   "execution_count": 67,
   "outputs": [],
   "source": [
    "# Enviando previsões realizadas com o modelo para o servidor\n",
    "URL = \"https://aydanomachado.com/mlclass/01_Preprocessing.php\"\n",
    "\n",
    "# TODO Substituir pela sua chave aqui\n",
    "DEV_KEY = \"Computatchan\"\n",
    "\n",
    "# json para ser enviado para o servidor\n",
    "data = {'dev_key': DEV_KEY,\n",
    "        'predictions': pd.Series(y_pred).to_json(orient='values')}"
   ],
   "metadata": {
    "collapsed": false,
    "pycharm": {
     "name": "#%%\n"
    }
   }
  },
  {
   "cell_type": "code",
   "execution_count": 70,
   "outputs": [],
   "source": [
    "# Enviando requisição e salvando o objeto resposta\n",
    "r = requests.post(url=URL, data=data)"
   ],
   "metadata": {
    "collapsed": false,
    "pycharm": {
     "name": "#%%\n"
    }
   }
  },
  {
   "cell_type": "code",
   "execution_count": 71,
   "outputs": [
    {
     "name": "stdout",
     "output_type": "stream",
     "text": [
      " - Resposta do servidor:\n",
      " {\"error\":{\"code\":102,\"message\":\"Espere ao menos 10 minutos entre dois envios, tempo restante 00 dias 00 horas 03 minutos 24 segundos\"}} \n",
      "\n"
     ]
    }
   ],
   "source": [
    "# Extraindo e imprimindo o texto da resposta\n",
    "pastebin_url = r.text\n",
    "print(\" - Resposta do servidor:\\n\", r.text, \"\\n\")"
   ],
   "metadata": {
    "collapsed": false,
    "pycharm": {
     "name": "#%%\n"
    }
   }
  }
 ],
 "metadata": {
  "kernelspec": {
   "display_name": "Python 3",
   "language": "python",
   "name": "python3"
  },
  "language_info": {
   "codemirror_mode": {
    "name": "ipython",
    "version": 2
   },
   "file_extension": ".py",
   "mimetype": "text/x-python",
   "name": "python",
   "nbconvert_exporter": "python",
   "pygments_lexer": "ipython2",
   "version": "2.7.6"
  }
 },
 "nbformat": 4,
 "nbformat_minor": 0
}