{
 "cells": [
  {
   "cell_type": "code",
   "execution_count": 18,
   "metadata": {
    "collapsed": true
   },
   "outputs": [],
   "source": [
    "import pandas as pd\n",
    "from sklearn.neighbors import KNeighborsClassifier\n",
    "import requests\n",
    "\n",
    "# Haralick\n",
    "from sklearn.neighbors import KNeighborsClassifier\n",
    "from sklearn.naive_bayes import GaussianNB\n",
    "from sklearn.metrics import accuracy_score, precision_score, recall_score, f1_score\n",
    "from sklearn.model_selection import train_test_split"
   ]
  },
  {
   "cell_type": "code",
   "execution_count": 3,
   "outputs": [],
   "source": [
    "df = pd.read_csv('abalone_dataset.csv')"
   ],
   "metadata": {
    "collapsed": false,
    "pycharm": {
     "name": "#%%\n"
    }
   }
  },
  {
   "cell_type": "code",
   "execution_count": 4,
   "outputs": [
    {
     "name": "stdout",
     "output_type": "stream",
     "text": [
      "<class 'pandas.core.frame.DataFrame'>\n",
      "RangeIndex: 3132 entries, 0 to 3131\n",
      "Data columns (total 9 columns):\n",
      " #   Column          Non-Null Count  Dtype  \n",
      "---  ------          --------------  -----  \n",
      " 0   sex             3132 non-null   object \n",
      " 1   length          3132 non-null   float64\n",
      " 2   diameter        3132 non-null   float64\n",
      " 3   height          3132 non-null   float64\n",
      " 4   whole_weight    3132 non-null   float64\n",
      " 5   shucked_weight  3132 non-null   float64\n",
      " 6   viscera_weight  3132 non-null   float64\n",
      " 7   shell_weight    3132 non-null   float64\n",
      " 8   type            3132 non-null   int64  \n",
      "dtypes: float64(7), int64(1), object(1)\n",
      "memory usage: 220.3+ KB\n"
     ]
    }
   ],
   "source": [
    "df.info()"
   ],
   "metadata": {
    "collapsed": false,
    "pycharm": {
     "name": "#%%\n"
    }
   }
  },
  {
   "cell_type": "code",
   "execution_count": 5,
   "outputs": [
    {
     "data": {
      "text/plain": "            length     diameter       height  whole_weight  shucked_weight  \\\ncount  3132.000000  3132.000000  3132.000000   3132.000000     3132.000000   \nmean      0.521392     0.405865     0.138263      0.818738        0.355398   \nstd       0.120756     0.099600     0.039206      0.489560        0.221473   \nmin       0.075000     0.055000     0.000000      0.002000        0.001000   \n25%       0.450000     0.345000     0.110000      0.436375        0.181500   \n50%       0.540000     0.420000     0.140000      0.787000        0.330500   \n75%       0.610000     0.480000     0.165000      1.141625        0.497500   \nmax       0.815000     0.650000     0.515000      2.825500        1.488000   \n\n       viscera_weight  shell_weight         type  \ncount     3132.000000   3132.000000  3132.000000  \nmean         0.178349      0.235616     1.991379  \nstd          0.109554      0.139215     0.824561  \nmin          0.000500      0.001500     1.000000  \n25%          0.090875      0.127500     1.000000  \n50%          0.168000      0.225000     2.000000  \n75%          0.250125      0.323625     3.000000  \nmax          0.760000      1.005000     3.000000  ",
      "text/html": "<div>\n<style scoped>\n    .dataframe tbody tr th:only-of-type {\n        vertical-align: middle;\n    }\n\n    .dataframe tbody tr th {\n        vertical-align: top;\n    }\n\n    .dataframe thead th {\n        text-align: right;\n    }\n</style>\n<table border=\"1\" class=\"dataframe\">\n  <thead>\n    <tr style=\"text-align: right;\">\n      <th></th>\n      <th>length</th>\n      <th>diameter</th>\n      <th>height</th>\n      <th>whole_weight</th>\n      <th>shucked_weight</th>\n      <th>viscera_weight</th>\n      <th>shell_weight</th>\n      <th>type</th>\n    </tr>\n  </thead>\n  <tbody>\n    <tr>\n      <th>count</th>\n      <td>3132.000000</td>\n      <td>3132.000000</td>\n      <td>3132.000000</td>\n      <td>3132.000000</td>\n      <td>3132.000000</td>\n      <td>3132.000000</td>\n      <td>3132.000000</td>\n      <td>3132.000000</td>\n    </tr>\n    <tr>\n      <th>mean</th>\n      <td>0.521392</td>\n      <td>0.405865</td>\n      <td>0.138263</td>\n      <td>0.818738</td>\n      <td>0.355398</td>\n      <td>0.178349</td>\n      <td>0.235616</td>\n      <td>1.991379</td>\n    </tr>\n    <tr>\n      <th>std</th>\n      <td>0.120756</td>\n      <td>0.099600</td>\n      <td>0.039206</td>\n      <td>0.489560</td>\n      <td>0.221473</td>\n      <td>0.109554</td>\n      <td>0.139215</td>\n      <td>0.824561</td>\n    </tr>\n    <tr>\n      <th>min</th>\n      <td>0.075000</td>\n      <td>0.055000</td>\n      <td>0.000000</td>\n      <td>0.002000</td>\n      <td>0.001000</td>\n      <td>0.000500</td>\n      <td>0.001500</td>\n      <td>1.000000</td>\n    </tr>\n    <tr>\n      <th>25%</th>\n      <td>0.450000</td>\n      <td>0.345000</td>\n      <td>0.110000</td>\n      <td>0.436375</td>\n      <td>0.181500</td>\n      <td>0.090875</td>\n      <td>0.127500</td>\n      <td>1.000000</td>\n    </tr>\n    <tr>\n      <th>50%</th>\n      <td>0.540000</td>\n      <td>0.420000</td>\n      <td>0.140000</td>\n      <td>0.787000</td>\n      <td>0.330500</td>\n      <td>0.168000</td>\n      <td>0.225000</td>\n      <td>2.000000</td>\n    </tr>\n    <tr>\n      <th>75%</th>\n      <td>0.610000</td>\n      <td>0.480000</td>\n      <td>0.165000</td>\n      <td>1.141625</td>\n      <td>0.497500</td>\n      <td>0.250125</td>\n      <td>0.323625</td>\n      <td>3.000000</td>\n    </tr>\n    <tr>\n      <th>max</th>\n      <td>0.815000</td>\n      <td>0.650000</td>\n      <td>0.515000</td>\n      <td>2.825500</td>\n      <td>1.488000</td>\n      <td>0.760000</td>\n      <td>1.005000</td>\n      <td>3.000000</td>\n    </tr>\n  </tbody>\n</table>\n</div>"
     },
     "execution_count": 5,
     "metadata": {},
     "output_type": "execute_result"
    }
   ],
   "source": [
    "df.describe()"
   ],
   "metadata": {
    "collapsed": false,
    "pycharm": {
     "name": "#%%\n"
    }
   }
  },
  {
   "cell_type": "code",
   "execution_count": 16,
   "outputs": [],
   "source": [
    "feature_cols = ['length', 'diameter', 'height', 'whole_weight',\n",
    "                'shucked_weight', 'viscera_weight', 'shell_weight']\n",
    "\n",
    "X = df[feature_cols]\n",
    "y = df['type']"
   ],
   "metadata": {
    "collapsed": false,
    "pycharm": {
     "name": "#%%\n"
    }
   }
  },
  {
   "cell_type": "code",
   "execution_count": 17,
   "outputs": [],
   "source": [
    "X_train, X_test, y_train, y_test = train_test_split(X, y)"
   ],
   "metadata": {
    "collapsed": false,
    "pycharm": {
     "name": "#%%\n"
    }
   }
  },
  {
   "cell_type": "markdown",
   "source": [
    "## K-Nearest Neighbors"
   ],
   "metadata": {
    "collapsed": false,
    "pycharm": {
     "name": "#%% md\n"
    }
   }
  },
  {
   "cell_type": "code",
   "execution_count": 21,
   "outputs": [],
   "source": [
    "test_scores = []\n",
    "train_scores = []\n",
    "\n",
    "for i in range(1,15):\n",
    "\n",
    "    knn = KNeighborsClassifier(i)\n",
    "    knn.fit(X_train,y_train)\n",
    "\n",
    "    train_scores.append(knn.score(X_train,y_train))\n",
    "    test_scores.append(knn.score(X_test,y_test))"
   ],
   "metadata": {
    "collapsed": false,
    "pycharm": {
     "name": "#%%\n"
    }
   }
  },
  {
   "cell_type": "code",
   "execution_count": null,
   "outputs": [],
   "source": [
    "import seaborn as sns\n",
    "import matplotlib.pyplot as plt\n",
    "\n",
    "plt.figure(figsize=(12,5))\n",
    "p = sns.lineplot(range(1,15),train_scores,marker='*',label='Train Score')\n",
    "p = sns.lineplot(range(1,15),test_scores,marker='o',label='Test Score')\n"
   ],
   "metadata": {
    "collapsed": false,
    "pycharm": {
     "name": "#%%\n"
    }
   }
  },
  {
   "cell_type": "code",
   "execution_count": 23,
   "outputs": [],
   "source": [
    "knn = KNeighborsClassifier(n_neighbors=12)\n",
    "\n",
    "knn.fit(X_train,y_train)\n",
    "\n",
    "preds = knn.predict(X_test)"
   ],
   "metadata": {
    "collapsed": false,
    "pycharm": {
     "name": "#%%\n"
    }
   }
  },
  {
   "cell_type": "markdown",
   "source": [
    "## Random Forest"
   ],
   "metadata": {
    "collapsed": false,
    "pycharm": {
     "name": "#%% md\n"
    }
   }
  },
  {
   "cell_type": "code",
   "source": [
    "from sklearn.ensemble import RandomForestClassifier\n",
    "\n",
    "best_score = 0\n",
    "for criterion in ['gini', 'entropy']:\n",
    "    for max_depth in range(1, 16):\n",
    "        for max_features in ['auto', 'sqrt', 'log2']:\n",
    "            rf = RandomForestClassifier(criterion=criterion,\n",
    "                                        max_depth=max_depth,\n",
    "                                        max_features=max_features)\n",
    "            rf.fit(X_train, y_train)\n",
    "            score = rf.score(X_test, y_test)\n",
    "\n",
    "            if score > best_score:\n",
    "                best_score = score\n",
    "                best_parameters = {\n",
    "                    'criterion': criterion,\n",
    "                    'max_depth': max_depth,\n",
    "                    'max_features': max_features\n",
    "                }\n",
    "\n",
    "print(best_score)\n",
    "print(best_parameters)"
   ],
   "metadata": {
    "collapsed": false,
    "pycharm": {
     "name": "#%%\n"
    }
   },
   "execution_count": 55,
   "outputs": [
    {
     "name": "stdout",
     "output_type": "stream",
     "text": [
      "0.6832694763729247\n",
      "{'criterion': 'entropy', 'max_depth': 7, 'max_features': 'auto'}\n"
     ]
    }
   ]
  },
  {
   "cell_type": "code",
   "execution_count": 56,
   "outputs": [],
   "source": [
    "# rf = RandomForestClassifier()\n",
    "rf = RandomForestClassifier(\n",
    "    criterion=best_parameters['criterion'],\n",
    "    max_depth=best_parameters['max_depth'],\n",
    "    max_features=best_parameters['max_features']\n",
    ")\n",
    "rf.fit(X_train, y_train)\n",
    "\n",
    "preds = rf.predict(X_test)"
   ],
   "metadata": {
    "collapsed": false,
    "pycharm": {
     "name": "#%%\n"
    }
   }
  },
  {
   "cell_type": "markdown",
   "source": [
    "## SVM"
   ],
   "metadata": {
    "collapsed": false,
    "pycharm": {
     "name": "#%% md\n"
    }
   }
  },
  {
   "cell_type": "code",
   "execution_count": 61,
   "outputs": [
    {
     "name": "stdout",
     "output_type": "stream",
     "text": [
      "0.6883780332056194\n",
      "{'C': 100, 'gamma': 'scale', 'kernel': 'rbf'}\n"
     ]
    }
   ],
   "source": [
    "from sklearn.svm import SVC\n",
    "\n",
    "best_score = 0\n",
    "for C in [0.0001, 0.001, 0.01, 0.1, 1, 10, 100, 1000]:\n",
    "    for gamma in ['auto', 'scale']:\n",
    "        for kernel in ['linear', 'poly', 'rbf', 'sigmoid']:\n",
    "            svc = SVC(kernel=kernel, C=C, gamma=gamma)\n",
    "            svc.fit(X_train, y_train)\n",
    "            score = svc.score(X_test, y_test)\n",
    "\n",
    "            if score > best_score:\n",
    "                    best_score = score\n",
    "                    best_parameters = {\n",
    "                        'C': C,\n",
    "                        'gamma': gamma,\n",
    "                        'kernel': kernel\n",
    "                    }\n",
    "print(best_score)\n",
    "print(best_parameters)"
   ],
   "metadata": {
    "collapsed": false,
    "pycharm": {
     "name": "#%%\n"
    }
   }
  },
  {
   "cell_type": "code",
   "execution_count": 67,
   "outputs": [],
   "source": [
    "# svc = SVC()\n",
    "svc = SVC(kernel=best_parameters['kernel'],\n",
    "          C=best_parameters['C'],\n",
    "          gamma=best_parameters['gamma'])\n",
    "svc.fit(X_train, y_train)\n",
    "\n",
    "preds = svc.predict(X_test)"
   ],
   "metadata": {
    "collapsed": false,
    "pycharm": {
     "name": "#%%\n"
    }
   }
  },
  {
   "cell_type": "markdown",
   "source": [
    "## Accuracy Scores"
   ],
   "metadata": {
    "collapsed": false,
    "pycharm": {
     "name": "#%% md\n"
    }
   }
  },
  {
   "cell_type": "code",
   "execution_count": 68,
   "outputs": [
    {
     "name": "stdout",
     "output_type": "stream",
     "text": [
      "Accuracy:  0.665389527458493\n",
      "Precision: 0.665389527458493\n",
      "Recall:    0.665389527458493\n",
      "F1:        0.665389527458493\n"
     ]
    }
   ],
   "source": [
    "accuracy = accuracy_score(y_test, preds)\n",
    "precision = precision_score(y_test, preds, average=\"micro\")\n",
    "recall = recall_score(y_test, preds, average=\"micro\")\n",
    "f1 = f1_score(y_test, preds, average='micro')\n",
    "\n",
    "print(f'Accuracy:  {accuracy}')\n",
    "print(f'Precision: {precision}')\n",
    "print(f'Recall:    {recall}')\n",
    "print(f'F1:        {f1}')"
   ],
   "metadata": {
    "collapsed": false,
    "pycharm": {
     "name": "#%%\n"
    }
   }
  },
  {
   "cell_type": "markdown",
   "source": [
    "## Predict and Upload"
   ],
   "metadata": {
    "collapsed": false,
    "pycharm": {
     "name": "#%% md\n"
    }
   }
  },
  {
   "cell_type": "code",
   "execution_count": 64,
   "outputs": [],
   "source": [
    "data = pd.read_csv('abalone_app.csv')[feature_cols]\n",
    "y_pred = rf.predict(data)"
   ],
   "metadata": {
    "collapsed": false,
    "pycharm": {
     "name": "#%%\n"
    }
   }
  },
  {
   "cell_type": "code",
   "execution_count": 65,
   "outputs": [],
   "source": [
    "URL = \"https://aydanomachado.com/mlclass/03_Validation.php\"\n",
    "\n",
    "DEV_KEY = \"Computatchan\"\n",
    "\n",
    "data = {'dev_key': DEV_KEY,\n",
    "        'predictions': pd.Series(y_pred).to_json(orient='values')}"
   ],
   "metadata": {
    "collapsed": false,
    "pycharm": {
     "name": "#%%\n"
    }
   }
  },
  {
   "cell_type": "code",
   "execution_count": 66,
   "outputs": [
    {
     "name": "stdout",
     "output_type": "stream",
     "text": [
      " - Resposta do servidor:\n",
      " {\"error\":{\"code\":102,\"message\":\"Espere ao menos 12 horas entre dois envios, tempo restante 00 dias 08 horas 58 minutos 45 segundos\"}} \n",
      "\n"
     ]
    }
   ],
   "source": [
    "# Enviando requisição e salvando o objeto resposta\n",
    "r = requests.post(url=URL, data=data)\n",
    "\n",
    "# Extraindo e imprimindo o texto da resposta\n",
    "pastebin_url = r.text\n",
    "print(\" - Resposta do servidor:\\n\", r.text, \"\\n\")\n",
    "\n",
    "\n",
    "# Resultados oficiais:\n",
    "# 1:\n",
    "#   Acurácia: 0.6258373205741626\n",
    "#   Método: KNN com 12 vizinhos e sem pré-processamento\n",
    "\n",
    "# Resultados não-oficiais:\n",
    "# 1:\n",
    "#   Acurácia: 0.6258373205741626\n",
    "#   Método: KNN com 12 vizinhos e sem pré-processamento\n",
    "# 2:\n",
    "#   Acurácia: 0.6577266922094508\n",
    "#   Método: Random Forest com parâmetros default e sem pré-processamento\n",
    "# 3:\n",
    "#   Acurácia: 0.665389527458493\n",
    "#   Método: Random Forest com criterion default, max_depth=7 e max_features='sqrt'; sem pré-processamento\n",
    "# 4:\n",
    "#   Acurácia: 0.6743295019157088\n",
    "#   Método: Random Forest com criterion='entropy', max_depth=7 e max_features='auto'; sem pré-processamento\n",
    "# 5:\n",
    "#   Acurácia: 0.6883780332056194\n",
    "#   Método: SVM com C=100, gamma='scale' e kernel='rbf'; sem pré-processamento\n",
    "# 6:\n",
    "#   Acurácia: 0.665389527458493\n",
    "#   Método: SVM com parâmetros default e sem pré-processamento"
   ],
   "metadata": {
    "collapsed": false,
    "pycharm": {
     "name": "#%%\n"
    }
   }
  }
 ],
 "metadata": {
  "kernelspec": {
   "display_name": "Python 3",
   "language": "python",
   "name": "python3"
  },
  "language_info": {
   "codemirror_mode": {
    "name": "ipython",
    "version": 2
   },
   "file_extension": ".py",
   "mimetype": "text/x-python",
   "name": "python",
   "nbconvert_exporter": "python",
   "pygments_lexer": "ipython2",
   "version": "2.7.6"
  }
 },
 "nbformat": 4,
 "nbformat_minor": 0
}